{
 "cells": [
  {
   "cell_type": "code",
   "execution_count": 2,
   "id": "05f732da",
   "metadata": {},
   "outputs": [
    {
     "name": "stdout",
     "output_type": "stream",
     "text": [
      "Requirement already satisfied: mysql-connector-python in c:\\users\\renato\\anaconda3\\lib\\site-packages (8.2.0)\n",
      "Requirement already satisfied: protobuf<=4.21.12,>=4.21.1 in c:\\users\\renato\\anaconda3\\lib\\site-packages (from mysql-connector-python) (4.21.12)\n"
     ]
    }
   ],
   "source": [
    "!pip install mysql-connector-python"
   ]
  },
  {
   "cell_type": "code",
   "execution_count": 3,
   "id": "83cd9748",
   "metadata": {},
   "outputs": [],
   "source": [
    "#importando as bibliotecas que iremos utilizar\n",
    "import random\n",
    "from datetime import datetime\n",
    "import pandas as pd\n",
    "import mysql.connector\n",
    "from mysql.connector import errorcode"
   ]
  },
  {
   "cell_type": "code",
   "execution_count": 4,
   "id": "74e02481",
   "metadata": {},
   "outputs": [],
   "source": [
    "# LISTAS PARA FUNCIONAMENTO\n",
    "\n",
    "# PLACAS E DATAS\n",
    "placa_geradas = list() # lista que recebe as placas geradas na função gerar\n",
    "data = list() # armazena a data e hora geradas dentro da função gerar\n",
    "\n",
    "# VOGAIS, CONSOANTES E NOMES\n",
    "vogais_japones = list()\n",
    "consoante_japones = list()\n",
    "nomes = list()\n",
    "\n",
    "# VEICULOS\n",
    "modelos = list()\n",
    "\n",
    "# IDADES\n",
    "idades = list()\n",
    "\n",
    "# CORES\n",
    "cores = list()\n",
    "\n",
    "# NIVEL ACESSO\n",
    "nivel_acesso = list()\n",
    "\n",
    "# MATRICULA\n",
    "matricula = list()\n",
    "\n"
   ]
  },
  {
   "cell_type": "code",
   "execution_count": 5,
   "id": "ae4817e5",
   "metadata": {},
   "outputs": [],
   "source": [
    "# GERANDO PLACAS\n",
    "\n",
    "def gerar_placa():\n",
    "    placa = [] # lista das letras e numeros gerados pela função random.choice\n",
    "    letra = ['A', 'B', 'C', 'D', 'E', 'F', 'G', 'H', 'I', 'J', 'L', 'M', 'N', 'O', 'P', 'Q', 'R', 'S', 'T', 'U', 'V', 'X', 'Z']\n",
    "    numero = ['0', '1', '2', '3', '4', '5', '6', '7', '8', '9']\n",
    "    letra_numero = []\n",
    "\n",
    "    for i in letra:\n",
    "        letra_numero.append(i)\n",
    "    for i in numero:\n",
    "        letra_numero.append(i)\n",
    "\n",
    "    for i in range(3):\n",
    "        choose = random.choice(letra)\n",
    "        placa.append(choose)\n",
    "    for i in range(5):\n",
    "        choose1 = random.choice(numero)\n",
    "        placa.append(choose1)\n",
    "    placa[5] = random.choice(letra_numero)\n",
    "    placa[3] = '-'\n",
    "    placa[0:] = [''.join(placa[0:])]\n",
    "    if placa in placa_geradas:\n",
    "        pass\n",
    "    else:\n",
    "        placa_final = placa[0]\n",
    "        placa_geradas.append(placa_final)\n",
    "    #for i in placa:\n",
    "        #print(f'Placa : {i} gerada com sucesso.')\n",
    "    now = datetime.now() # current date and time\n",
    "    date_time = now.strftime(\"%Y/%m/%d\")\n",
    "    data.append(date_time)\n",
    "\n",
    "\n",
    "def mostrar():\n",
    "    for i, p in enumerate(placa_geradas):\n",
    "        pp = placa_geradas[i][0]\n",
    "        data1 = data[i]\n",
    "        print(f'N° {i} - Placa: {pp}, Data: {data1}')"
   ]
  },
  {
   "cell_type": "code",
   "execution_count": 6,
   "id": "7b1ad0bd",
   "metadata": {},
   "outputs": [
    {
     "name": "stdout",
     "output_type": "stream",
     "text": [
      "Vogais: ['A', 'I', 'U', 'E', 'O']\n",
      " Consoantes: ['KA', 'KI', 'KU', 'KE', 'KO', 'SA', 'SHI', 'SU', 'SE', 'SO', 'TA', 'CHI', 'TSU', 'TE', 'TO', 'NA', 'NI', 'NU', 'NE', 'NO', 'HA', 'HI', 'FU', 'HE', 'HO', 'MA', 'MI', 'MU', 'ME', 'MO', 'YA', 'YU', 'YO', 'RA', 'RI', 'RU', 'RE', 'RO', 'WA', 'WO', 'N']\n"
     ]
    }
   ],
   "source": [
    "# GERADOR DE NOMES PADRAO JAPONES\n",
    "\n",
    "alfabeto = ['A','I','U','E','O','KA','KI','KU','KE','KO',\n",
    "                    'SA','SHI','SU','SE','SO',\n",
    "                    'TA','CHI','TSU','TE','TO',\n",
    "                    'NA','NI','NU','NE','NO',\n",
    "                    'HA','HI','FU','HE','HO',\n",
    "                    'MA','MI','MU','ME','MO',\n",
    "                    'YA','YU','YO',\n",
    "                    'RA','RI','RU','RE','RO',\n",
    "                    'WA', 'WO','N']\n",
    "\n",
    "# Separando as vogais e consoantes e adicionando as listas\n",
    "for letra in alfabeto:\n",
    "    if letra  == 'A' or letra == 'I' or letra == 'U' or letra == 'E' or letra == 'O':\n",
    "        vogais_japones.append(letra)\n",
    "    else:\n",
    "        consoante_japones.append(letra)\n",
    "\n",
    "print(f'Vogais: {vogais_japones}\\n Consoantes: {consoante_japones}' )\n",
    "\n",
    "\n"
   ]
  },
  {
   "cell_type": "code",
   "execution_count": 7,
   "id": "e8be32ba",
   "metadata": {},
   "outputs": [],
   "source": [
    "#funçoes para funcionamento\n",
    "def sortearLetra():\n",
    "    letraSorteada = alfabeto[random.randint(0, len(alfabeto)-1)]\n",
    "    for letra in vogais_japones:\n",
    "        if letraSorteada == letra:\n",
    "            tipo = \"vogal\"\n",
    "            break\n",
    "    for letra in consoante_japones:\n",
    "        if letraSorteada == letra:\n",
    "            tipo = \"consoante\"\n",
    "            break\n",
    "    #print(f'Letra sorteada: {letraSorteada}; Tipo: {tipo}')\n",
    "    return letraSorteada, tipo\n",
    "\n",
    "def formarPalavra(tipo):\n",
    "    if tipo == 'consoante':\n",
    "        letra = vogais_japones[random.randint(0, len(vogais_japones)-1)]\n",
    "        tipo = 'vogal'\n",
    "    else:\n",
    "        letra = consoante_japones[random.randint(0, len(consoante_japones)-1)]\n",
    "        tipo = 'consoante'\n",
    "    #print(f'Saida : {letra}; {tipo}')\n",
    "    return letra, tipo\n",
    "\n",
    "def gerar_nomes():\n",
    "  lista_nome = []\n",
    "  #o nome haverá de 8 a 20 caracteres\n",
    "  #aleatorio = random.choice([i for i in range(2, 10)])\n",
    "  tamanho = [i for i in range(5, 10)]\n",
    "  escolha = random.choice(tamanho)\n",
    "  #Formando a palavra\n",
    "  primeiraLetra = sortearLetra()\n",
    "  auxiliar = primeiraLetra\n",
    "\n",
    "  for p in range(escolha):\n",
    "    auxiliar = formarPalavra(auxiliar[1])\n",
    "    lista_nome.append(auxiliar[0])\n",
    "\n",
    "  lista_nome[4] = ' '\n",
    "  lista_nome[0:] = [''.join(lista_nome[0:])]\n",
    "  nome_final = lista_nome[0]\n",
    "\n",
    "  if lista_nome in nomes:\n",
    "    #res = [i[::-1] for i in nome_final]\n",
    "    #nomes.append(res.title())\n",
    "    pass\n",
    "  else:\n",
    "    nomes.append(nome_final.title())\n"
   ]
  },
  {
   "cell_type": "code",
   "execution_count": 8,
   "id": "33d4b020",
   "metadata": {},
   "outputs": [],
   "source": [
    "# ESCOLHENDO O MODELO DO VEICULO\n",
    "\n",
    "# FUNCAO PARA FUNCIONAMENTO\n",
    "def gerar_modelo():\n",
    "  modelo = []\n",
    "  chevrolet = ['Chevrolet Onix', 'Chevrolet Tracker', 'Chevrolet S10', 'Chevrolet Cruze', 'Chevrolet Prisma', 'Chevrolet Onix Plus', 'Chevrolet Spin', 'Chevrolet Classic']\n",
    "  fiat = ['Fiat Strada', 'Fiat Mobi', 'Fiat Toro', 'Fiat Argo', 'Fiat Cronos', 'Fiat Pulse', 'Fiat Palio']\n",
    "  honda = ['Honda Accord', 'Honda City', 'Honda Civic', 'Honda CR-V', 'Honda Fit', 'Honda HR-V']\n",
    "  nissan = ['Nissan Frontier', 'Nissan GT-R', 'Nissan Kicks', 'Nissan March','Nissan Sentra', 'Nissan Versa']\n",
    "  hyundai = ['Hyundai Creta', 'Hyundai HB20', 'Hyundai HB20S', 'Hyundai HR']\n",
    "  volkswagen = ['Volkswagen Amarok', 'Volkswagen Fox', 'Volkswagen Gol', 'Volkswagen Golf', 'Volkswagen Jetta', 'Volkswagen Nivus', 'Volkswagen Polo']\n",
    "  kia = ['Kia Cerato', 'Kia Soul', 'Kia Sportage', 'Kia Sorento', 'Kia Picanto', 'Kia Optima', 'Kia Rio','Kia Carnival']\n",
    "  bmw = ['BMW X1', 'BMW X6','BMW X3', 'BMW X4', 'BMW X5', 'BMW X2']\n",
    "  audi = ['Audi Q3', 'Audi A3', 'Audi A3 Sedan', 'Audi A4', 'Audi A5', 'Audi Q5', 'Audi R8', 'Audi Q7']\n",
    "  rand_rover = ['Range Rover Sport', 'Range Rover Velar', 'Range Rover Evoque', 'Land Rover Discovery', 'Land Rover DISCOVERY Sport', 'Land Rover Defender']\n",
    "  carro_modelo = [chevrolet, fiat, honda, nissan, hyundai, volkswagen, kia, bmw, audi, rand_rover]\n",
    "\n",
    "\n",
    "\n",
    "  categoria = carro_modelo[random.randint(0, len(carro_modelo)-1)]\n",
    "  escolha = categoria[random.randint(0, len(categoria)-1)]\n",
    "  modelo.append(escolha)\n",
    "  #print(f'Modelo {modelo} adicionado com sucesso.')\n",
    "  modelo_f = modelo[0]\n",
    "  modelos.append(modelo_f)\n",
    "\n"
   ]
  },
  {
   "cell_type": "code",
   "execution_count": 9,
   "id": "2b960752",
   "metadata": {},
   "outputs": [],
   "source": [
    "# SORTEANDO IDADES\n",
    "\n",
    "\n",
    "def gerar_idades():\n",
    "  idade_sorteada = list()\n",
    "  idade_lista = [i for i in range(18, 79)]\n",
    "  escolha = random.choice(idade_lista)\n",
    "  idades.append(escolha)"
   ]
  },
  {
   "cell_type": "code",
   "execution_count": 10,
   "id": "3239340c",
   "metadata": {},
   "outputs": [],
   "source": [
    "# SORTEANDO CORES\n",
    "\n",
    "def gerar_cor():\n",
    "  coress = ['Preto', 'Marrom', 'Vermelho', 'Laranja', 'Amarelo', 'Verde', 'Azul Claro', 'Azul Escuro', 'Branco', 'Rosa']\n",
    "  escolha_cor = random.choice(coress)\n",
    "  cores.append(escolha_cor)\n"
   ]
  },
  {
   "cell_type": "code",
   "execution_count": 11,
   "id": "4d8aa853",
   "metadata": {},
   "outputs": [
    {
     "data": {
      "text/plain": [
       "[3, 3]"
      ]
     },
     "execution_count": 11,
     "metadata": {},
     "output_type": "execute_result"
    }
   ],
   "source": [
    "# NIVEL ACESSO\n",
    "\n",
    "def gerar_nivel():\n",
    "    escolha = random.choice(range(1, 4))\n",
    "    nivel_acesso.append(escolha)\n",
    "\n",
    "for i in range(2):\n",
    "    gerar_nivel()\n",
    "\n",
    "nivel_acesso"
   ]
  },
  {
   "cell_type": "code",
   "execution_count": 12,
   "id": "7b7be262",
   "metadata": {},
   "outputs": [],
   "source": [
    "# GERAR MATRICULA\n",
    "\n",
    "def g_matricula():\n",
    "    def gerar_matricula():\n",
    "        matricula1 = []\n",
    "    # matricula com entre 3 a 6 digitos\n",
    "        rand = random.choice(range(3, 7))\n",
    "        for i in range(rand):\n",
    "            escolha = random.choice(range(0, 10))\n",
    "            matricula1.append(str(escolha))  # Converti para string\n",
    "\n",
    "        if matricula1[0] == '0':\n",
    "            matricula1[0] = str(random.choice(range(1, 8)))\n",
    "\n",
    "        matricula_gerada = ''.join(matricula1)\n",
    "\n",
    "        return matricula_gerada\n",
    "\n",
    "    nova_matricula = gerar_matricula()\n",
    "\n",
    "# Certifique-se de que a nova_matricula não está na lista matricula antes de adicioná-la\n",
    "    while nova_matricula in matricula:\n",
    "        #print(f\"Matrícula {nova_matricula} já existe na lista. Gerando uma nova matrícula.\")\n",
    "        nova_matricula = gerar_matricula()\n",
    "\n",
    "    matricula.append(nova_matricula)\n",
    "    #print(f\"Matrícula gerada e adicionada à lista: {nova_matricula}\")\n",
    "\n",
    "\n",
    "g_matricula()"
   ]
  },
  {
   "cell_type": "code",
   "execution_count": 15,
   "id": "6ff1b123",
   "metadata": {},
   "outputs": [],
   "source": [
    "# FUNCAO PARA EXECUTAR TODAS AS FUNÇOES QUE IRAM GERAR AS NOVAS INFORMAÇOES\n",
    "def executar():\n",
    "  for i in range(50000):  #range(numero de informaçoes unicas geradas)\n",
    "    gerar_nomes()\n",
    "    gerar_idades()\n",
    "    gerar_placa()\n",
    "    gerar_modelo()\n",
    "    gerar_cor()\n",
    "    g_matricula()\n",
    "    gerar_nivel()\n",
    "\n",
    "\n",
    "executar()\n",
    "funcionario_id = [i for i in range(1, len(nomes)+1)]\n"
   ]
  },
  {
   "cell_type": "code",
   "execution_count": 14,
   "id": "94838660",
   "metadata": {},
   "outputs": [],
   "source": [
    "# FUNCAO LIMPEZA\n",
    "def limpeza():\n",
    "  nomes.clear()\n",
    "  idades.clear()\n",
    "  placa_geradas.clear()\n",
    "  modelos.clear()\n",
    "  cores.clear()\n",
    "  data.clear()\n",
    "  matricula.clear()\n",
    "  nivel_acesso.clear()\n",
    "  funcionario_id.clear()\n",
    "\n",
    "\n",
    "\n",
    "limpeza()"
   ]
  },
  {
   "cell_type": "code",
   "execution_count": 16,
   "id": "7dc575e2",
   "metadata": {},
   "outputs": [],
   "source": [
    "# tabela funcionario\n",
    "funcionario = pd.DataFrame({'Nome': nomes, 'Idade': idades, 'Matricula': matricula, 'Nivel_acesso': nivel_acesso})\n",
    "\n",
    "# tabela veiculo\n",
    "veiculo = pd.DataFrame({'Placa': placa_geradas, 'Modelo': modelos, 'Cor_veiculo': cores, 'Funcionario_id': funcionario_id})\n"
   ]
  },
  {
   "cell_type": "code",
   "execution_count": 17,
   "id": "13b124ca",
   "metadata": {},
   "outputs": [
    {
     "name": "stdout",
     "output_type": "stream",
     "text": [
      "<class 'pandas.core.frame.DataFrame'>\n",
      "RangeIndex: 50000 entries, 0 to 49999\n",
      "Data columns (total 4 columns):\n",
      " #   Column        Non-Null Count  Dtype \n",
      "---  ------        --------------  ----- \n",
      " 0   Nome          50000 non-null  object\n",
      " 1   Idade         50000 non-null  int64 \n",
      " 2   Matricula     50000 non-null  object\n",
      " 3   Nivel_acesso  50000 non-null  int64 \n",
      "dtypes: int64(2), object(2)\n",
      "memory usage: 1.5+ MB\n"
     ]
    }
   ],
   "source": [
    "funcionario.head()\n",
    "funcionario.info()"
   ]
  },
  {
   "cell_type": "code",
   "execution_count": 18,
   "id": "b55f3dc6",
   "metadata": {},
   "outputs": [
    {
     "name": "stdout",
     "output_type": "stream",
     "text": [
      "<class 'pandas.core.frame.DataFrame'>\n",
      "RangeIndex: 50000 entries, 0 to 49999\n",
      "Data columns (total 4 columns):\n",
      " #   Column          Non-Null Count  Dtype \n",
      "---  ------          --------------  ----- \n",
      " 0   Placa           50000 non-null  object\n",
      " 1   Modelo          50000 non-null  object\n",
      " 2   Cor_veiculo     50000 non-null  object\n",
      " 3   Funcionario_id  50000 non-null  int64 \n",
      "dtypes: int64(1), object(3)\n",
      "memory usage: 1.5+ MB\n"
     ]
    }
   ],
   "source": [
    "veiculo.head()\n",
    "veiculo.info()"
   ]
  },
  {
   "cell_type": "code",
   "execution_count": 22,
   "id": "361ebdd8",
   "metadata": {},
   "outputs": [
    {
     "name": "stdout",
     "output_type": "stream",
     "text": [
      "Database connection made!\n"
     ]
    }
   ],
   "source": [
    "# CONECTAR O PYTHON AO AZURE DATABASE FOR MYSQL\n",
    "try:\n",
    "    conexao = mysql.connector.connect(host='db-italia.mysql.database.azure.com', user='',password='', database='projeto_python_sql')\n",
    "    print('Database connection made!')\n",
    "    mycursor = conexao.cursor()\n",
    "except mysql.connector.Error as error:\n",
    "    if error.errno == errorcode.ER_BAD_DB_ERROR:\n",
    "        print('Database doesnt exist')\n",
    "    elif error.errno == errocode.ER_ACESS_DENIED_ERROR:\n",
    "        print('User name or password is wrong')\n",
    "    else:\n",
    "        print(error)"
   ]
  },
  {
   "cell_type": "code",
   "execution_count": null,
   "id": "d2530787",
   "metadata": {},
   "outputs": [],
   "source": [
    "CREATE DATABASE projeto_python_sql;\n",
    "USE projeto_python_sql;\n",
    "\n",
    "CREATE TABLE funcionario\n",
    "(\n",
    "\tfuncionario_id INT AUTO_INCREMENT NOT NULL,\n",
    "\tnome VARCHAR(100) NOT NULL,\n",
    "    idade INT NOT NULL,\n",
    "\tmatricula INT UNIQUE NOT NULL,\n",
    "\tnivel_acesso INT NOT NULL,\n",
    "    PRIMARY KEY(funcionario_id)\n",
    ");\n"
   ]
  },
  {
   "cell_type": "code",
   "execution_count": null,
   "id": "1b901447",
   "metadata": {},
   "outputs": [],
   "source": [
    "CREATE TABLE veiculo\n",
    "(\n",
    "\tveiculo_id INT AUTO_INCREMENT NOT NULL,\n",
    "    placa VARCHAR(8) NOT NULL,\n",
    "    modelo VARCHAR(40) NOT NULL,\n",
    "    cor_veiculo VARCHAR(20) NOT NULL,\n",
    "    funcionario_id INT NOT NULL,\n",
    "    PRIMARY KEY(veiculo_id),\n",
    "    FOREIGN KEY(funcionario_id) REFERENCES funcionario(funcionario_id)\n",
    ");"
   ]
  },
  {
   "cell_type": "code",
   "execution_count": null,
   "id": "25a1dd35",
   "metadata": {},
   "outputs": [],
   "source": []
  },
  {
   "cell_type": "code",
   "execution_count": null,
   "id": "6040e7bb",
   "metadata": {
    "scrolled": false
   },
   "outputs": [],
   "source": [
    "# ADICIONANDO CADA LINHA DO DATAFRAME A TABELA CRIADA NO BANCO DE DADOS\n",
    "for index, row in funcionario.iterrows():\n",
    "    sql = \"INSERT INTO funcionario (nome, idade, matricula, nivel_acesso) VALUES (%s, %s, %s, %s)\"\n",
    "    val = (row['Nome'], row['Idade'], row['Matricula'], row['Nivel_acesso'])\n",
    "    mycursor.execute(sql, val)\n",
    "    conexao.commit()\n",
    "\n",
    "\n",
    "mycursor.close()\n",
    "conexao.close()"
   ]
  },
  {
   "cell_type": "code",
   "execution_count": 23,
   "id": "7e4883f5",
   "metadata": {},
   "outputs": [],
   "source": [
    "for index, row in veiculo.iterrows():\n",
    "        # Agora, insira na tabela veiculo\n",
    "        sql = \"INSERT INTO veiculo (placa, modelo, cor_veiculo, funcionario_id) VALUES (%s, %s, %s, %s)\"\n",
    "        val = (row['Placa'], row['Modelo'], row['Cor_veiculo'], row['Funcionario_id'])\n",
    "        mycursor.execute(sql, val)\n",
    "        conexao.commit()\n",
    "        \n",
    "mycursor.close()\n",
    "conexao.close()"
   ]
  },
  {
   "cell_type": "code",
   "execution_count": 44,
   "id": "e4f7bb77",
   "metadata": {},
   "outputs": [
    {
     "name": "stdout",
     "output_type": "stream",
     "text": [
      "(50000,)\n"
     ]
    }
   ],
   "source": [
    "#  ALGORITMO PARA SELECIONAR AS INFORMAÇÕES DA TABELA DO BANCO DE DADOS\n",
    "mycursor = conexao.cursor()\n",
    "\n",
    "mycursor.execute(\"SELECT count(*) FROM funcionario\")\n",
    "\n",
    "myresult = mycursor.fetchall()\n",
    "mycursor.close()\n",
    "conexao.close()\n",
    "\n",
    "\n",
    "for x in myresult:\n",
    "  print(x)\n",
    "\n"
   ]
  },
  {
   "cell_type": "code",
   "execution_count": 45,
   "id": "b458c4e2",
   "metadata": {},
   "outputs": [
    {
     "name": "stdout",
     "output_type": "stream",
     "text": [
      "(50000,)\n"
     ]
    }
   ],
   "source": [
    "#  ALGORITMO PARA SELECIONAR AS INFORMAÇÕES DA TABELA DO BANCO DE DADOS\n",
    "mycursor = conexao.cursor()\n",
    "\n",
    "mycursor.execute(\"SELECT count(*) FROM veiculo\")\n",
    "\n",
    "myresult = mycursor.fetchall()\n",
    "mycursor.close()\n",
    "conexao.close()\n",
    "\n",
    "for x in myresult:\n",
    "  print(x)\n",
    "\n"
   ]
  },
  {
   "cell_type": "code",
   "execution_count": 46,
   "id": "c0e7a8c6",
   "metadata": {},
   "outputs": [
    {
     "name": "stdout",
     "output_type": "stream",
     "text": [
      "(1, 'Oseita Keanea', 28, 725673, 1)\n",
      "(2, 'Eteeni ', 46, 8516, 2)\n",
      "(3, 'Ayaumi Wauchio', 18, 496, 3)\n",
      "(4, 'Ohieshi Ro', 34, 6504, 3)\n",
      "(5, 'Uheine Taikeu', 24, 166, 1)\n",
      "(6, 'Amieya Reishii', 48, 20548, 2)\n",
      "(7, 'Miunie One', 69, 38105, 2)\n",
      "(8, 'Seutsuu U', 36, 493545, 1)\n",
      "(9, 'Oniuwo Noe', 78, 95359, 2)\n",
      "(10, 'Uhiiro Mu', 67, 643, 2)\n",
      "(11, 'Iruato Yoinee', 57, 20382, 2)\n",
      "(12, 'Okeita Kou', 65, 1951, 3)\n",
      "(13, 'Asairi Mi', 48, 48597, 1)\n",
      "(14, 'Etsuetsu Hoe', 35, 51865, 1)\n",
      "(15, 'Awaonu Mui', 49, 20782, 1)\n",
      "(16, 'Usouko Soana', 73, 806, 3)\n",
      "(17, 'Akuute Chiuso', 35, 945, 2)\n",
      "(18, 'Raikoa Otou', 41, 315, 3)\n",
      "(19, 'Etooso Shiekau', 44, 889, 2)\n",
      "(20, 'Efueka Fuokau', 43, 343, 3)\n"
     ]
    }
   ],
   "source": [
    "#  ALGORITMO PARA SELECIONAR AS INFORMAÇÕES DA TABELA DO BANCO DE DADOS\n",
    "mycursor = conexao.cursor()\n",
    "\n",
    "mycursor.execute(\"SELECT * FROM funcionario LIMIT 20\")\n",
    "\n",
    "myresult = mycursor.fetchall()\n",
    "mycursor.close()\n",
    "conexao.close()\n",
    "\n",
    "for x in myresult:\n",
    "  print(x)\n",
    "\n",
    "\n"
   ]
  },
  {
   "cell_type": "code",
   "execution_count": 51,
   "id": "c9d1ec69",
   "metadata": {},
   "outputs": [
    {
     "name": "stdout",
     "output_type": "stream",
     "text": [
      "(1, 'VDH-4J15', 'Nissan March', 'Amarelo', 1)\n",
      "(2, 'AFO-8M51', 'Nissan Frontier', 'Laranja', 2)\n",
      "(3, 'RCE-2Z83', 'Fiat Strada', 'Azul Escuro', 3)\n",
      "(4, 'VVO-1S94', 'Kia Soul', 'Azul Escuro', 4)\n",
      "(5, 'FZJ-9B31', 'Hyundai HB20S', 'Verde', 5)\n",
      "(6, 'HDA-7041', 'Honda HR-V', 'Preto', 6)\n",
      "(7, 'FPH-7495', 'Volkswagen Amarok', 'Branco', 7)\n",
      "(8, 'XGE-6865', 'Honda Civic', 'Preto', 8)\n",
      "(9, 'IXL-4T17', 'Hyundai HR', 'Verde', 9)\n",
      "(10, 'CAQ-3L32', 'Fiat Mobi', 'Amarelo', 10)\n",
      "(11, 'OCC-2649', 'Chevrolet Spin', 'Rosa', 11)\n",
      "(12, 'QUS-4G63', 'Fiat Cronos', 'Rosa', 12)\n",
      "(13, 'SDS-7N53', 'Nissan Sentra', 'Amarelo', 13)\n",
      "(14, 'BJN-2I16', 'Honda City', 'Vermelho', 14)\n",
      "(15, 'XMZ-6J67', 'Chevrolet Onix', 'Azul Claro', 15)\n",
      "(16, 'LEC-6V84', 'Volkswagen Polo', 'Amarelo', 16)\n",
      "(17, 'UII-5V78', 'Fiat Palio', 'Marrom', 17)\n",
      "(18, 'SZM-0P65', 'Fiat Mobi', 'Azul Claro', 18)\n",
      "(19, 'MST-8183', 'Nissan Sentra', 'Laranja', 19)\n",
      "(20, 'CRC-0Z07', 'Fiat Mobi', 'Amarelo', 20)\n"
     ]
    }
   ],
   "source": [
    "#  ALGORITMO PARA SELECIONAR AS INFORMAÇÕES DA TABELA DO BANCO DE DADOS\n",
    "mycursor = conexao.cursor()\n",
    "\n",
    "mycursor.execute(\"SELECT * FROM veiculo LIMIT 20\")\n",
    "\n",
    "myresult = mycursor.fetchall()\n",
    "mycursor.close()\n",
    "conexao.close()\n",
    "\n",
    "for x in myresult:\n",
    "  print(x)"
   ]
  },
  {
   "cell_type": "code",
   "execution_count": null,
   "id": "f84b39ff",
   "metadata": {},
   "outputs": [],
   "source": [
    "CREATE VIEW estacionamento_terreo AS\n",
    "SELECT\n",
    "    f.nome,\n",
    "    f.matricula,\n",
    "    v.placa,\n",
    "    v.modelo,\n",
    "    f.nivel_acesso\n",
    "FROM\n",
    "    funcionario f\n",
    "JOIN\n",
    "    veiculo v ON f.funcionario_id = v.funcionario_id\n",
    "WHERE\n",
    "    f.nivel_acesso = 3;"
   ]
  },
  {
   "cell_type": "code",
   "execution_count": null,
   "id": "87c419b4",
   "metadata": {},
   "outputs": [],
   "source": [
    "CREATE VIEW estacionamento_subsolo AS\n",
    "SELECT\n",
    "    f.nome,\n",
    "    f.matricula,\n",
    "    v.placa,\n",
    "    v.modelo,\n",
    "    f.nivel_acesso\n",
    "FROM\n",
    "    funcionario f\n",
    "JOIN\n",
    "    veiculo v ON f.funcionario_id = v.funcionario_id\n",
    "WHERE\n",
    "    f.nivel_acesso = 2;"
   ]
  },
  {
   "cell_type": "code",
   "execution_count": null,
   "id": "614f0285",
   "metadata": {},
   "outputs": [],
   "source": [
    "CREATE VIEW estacionamento_divina AS\n",
    "SELECT\n",
    "    f.nome,\n",
    "    f.matricula,\n",
    "    v.placa,\n",
    "    v.modelo,\n",
    "    f.nivel_acesso\n",
    "FROM\n",
    "    funcionario f\n",
    "JOIN\n",
    "    veiculo v ON f.funcionario_id = v.funcionario_id\n",
    "WHERE\n",
    "    f.nivel_acesso = 1;"
   ]
  },
  {
   "cell_type": "code",
   "execution_count": 62,
   "id": "4bec50dc",
   "metadata": {},
   "outputs": [
    {
     "name": "stdout",
     "output_type": "stream",
     "text": [
      "('Oseita Keanea', 725673, 'VDH-4J15', 'Nissan March', 1)\n",
      "('Uheine Taikeu', 166, 'FZJ-9B31', 'Hyundai HB20S', 1)\n",
      "('Seutsuu U', 493545, 'XGE-6865', 'Honda Civic', 1)\n",
      "('Asairi Mi', 48597, 'SDS-7N53', 'Nissan Sentra', 1)\n",
      "('Etsuetsu Hoe', 51865, 'BJN-2I16', 'Honda City', 1)\n",
      "('Awaonu Mui', 20782, 'XMZ-6J67', 'Chevrolet Onix', 1)\n",
      "('Tsuifuu ', 683608, 'SFA-9E76', 'BMW X2', 1)\n",
      "('Enuki Riuhai', 689938, 'DLT-5Q04', 'BMW X1', 1)\n",
      "('Otaeki Sa', 538297, 'IDG-8Q94', 'Fiat Palio', 1)\n",
      "('Otoone Nao', 654959, 'MHB-3U65', 'Fiat Pulse', 1)\n",
      "('Omeoyo No', 114, 'ZRQ-1A80', 'Fiat Toro', 1)\n",
      "('Anike N', 5028, 'HBE-3087', 'Audi Q5', 1)\n",
      "('Anaane ', 72848, 'GPQ-7571', 'Nissan Kicks', 1)\n",
      "('Oneusa Ro', 396669, 'EUI-7886', 'Hyundai HR', 1)\n",
      "('Enanu Fu', 98093, 'ZHG-6M21', 'Volkswagen Gol', 1)\n",
      "('Etouna Sei', 66078, 'EXF-6X82', 'Chevrolet Onix', 1)\n",
      "('Umiusu Heiru', 26353, 'OVO-2E79', 'Volkswagen Polo', 1)\n",
      "('Okiuyu ', 410960, 'BDO-4D93', 'Honda Civic', 1)\n",
      "('Toerio Uyo', 205050, 'ECA-0J24', 'Volkswagen Golf', 1)\n",
      "('Uruiro Ka', 980, 'IHQ-4R27', 'Honda Accord', 1)\n"
     ]
    }
   ],
   "source": [
    "#  ALGORITMO PARA SELECIONAR AS INFORMAÇÕES DA TABELA DO BANCO DE DADOS\n",
    "mycursor = conexao.cursor()\n",
    "\n",
    "mycursor.execute(\"SELECT * FROM estacionamento_divina LIMIT 20\")\n",
    "\n",
    "myresult = mycursor.fetchall()\n",
    "\n",
    "for x in myresult:\n",
    "  print(x)"
   ]
  },
  {
   "cell_type": "code",
   "execution_count": 63,
   "id": "17188949",
   "metadata": {},
   "outputs": [
    {
     "name": "stdout",
     "output_type": "stream",
     "text": [
      "('Eteeni ', 8516, 'AFO-8M51', 'Nissan Frontier', 2)\n",
      "('Amieya Reishii', 20548, 'HDA-7041', 'Honda HR-V', 2)\n",
      "('Miunie One', 38105, 'FPH-7495', 'Volkswagen Amarok', 2)\n",
      "('Oniuwo Noe', 95359, 'IXL-4T17', 'Hyundai HR', 2)\n",
      "('Uhiiro Mu', 643, 'CAQ-3L32', 'Fiat Mobi', 2)\n",
      "('Iruato Yoinee', 20382, 'OCC-2649', 'Chevrolet Spin', 2)\n",
      "('Akuute Chiuso', 945, 'UII-5V78', 'Fiat Palio', 2)\n",
      "('Etooso Shiekau', 889, 'MST-8183', 'Nissan Sentra', 2)\n",
      "('Erioho Tsu', 6735, 'PVM-7Q63', 'Audi A3 Sedan', 2)\n",
      "('Areaha ', 556547, 'GOX-0A98', 'Kia Picanto', 2)\n",
      "('Urueha Wa', 450, 'EVH-5I37', 'Kia Cerato', 2)\n",
      "('Ineeke Wo', 272, 'ASG-0H48', 'Kia Carnival', 2)\n",
      "('Roetau Emiiwo', 857922, 'XOO-6X30', 'BMW X3', 2)\n",
      "('Otootsu Keimue', 1999, 'XAE-0U90', 'Audi A3', 2)\n",
      "('Inute ', 68954, 'EZV-9640', 'Hyundai Creta', 2)\n",
      "('Umouke Naima', 5591, 'XIT-1S24', 'Chevrolet Classic', 2)\n",
      "('Aseesu Ruoyue', 178460, 'RVA-3F66', 'Hyundai HR', 2)\n",
      "('Woeroi ', 729137, 'NMD-6643', 'Land Rover DISCOVERY Sport', 2)\n",
      "('Amean Soaro', 456, 'SEZ-1S92', 'Volkswagen Polo', 2)\n",
      "('Inoiho Yu', 550, 'VEE-3X28', 'Honda CR-V', 2)\n"
     ]
    }
   ],
   "source": [
    "#  ALGORITMO PARA SELECIONAR AS INFORMAÇÕES DA TABELA DO BANCO DE DADOS\n",
    "mycursor = conexao.cursor()\n",
    "\n",
    "mycursor.execute(\"SELECT * FROM estacionamento_subsolo LIMIT 20\")\n",
    "\n",
    "myresult = mycursor.fetchall()\n",
    "\n",
    "for x in myresult:\n",
    "  print(x)"
   ]
  },
  {
   "cell_type": "code",
   "execution_count": 64,
   "id": "78304962",
   "metadata": {},
   "outputs": [
    {
     "name": "stdout",
     "output_type": "stream",
     "text": [
      "('Oseita Keanea', 725673, 'VDH-4J15', 'Nissan March', 1)\n",
      "('Uheine Taikeu', 166, 'FZJ-9B31', 'Hyundai HB20S', 1)\n",
      "('Seutsuu U', 493545, 'XGE-6865', 'Honda Civic', 1)\n",
      "('Asairi Mi', 48597, 'SDS-7N53', 'Nissan Sentra', 1)\n",
      "('Etsuetsu Hoe', 51865, 'BJN-2I16', 'Honda City', 1)\n",
      "('Awaonu Mui', 20782, 'XMZ-6J67', 'Chevrolet Onix', 1)\n",
      "('Tsuifuu ', 683608, 'SFA-9E76', 'BMW X2', 1)\n",
      "('Enuki Riuhai', 689938, 'DLT-5Q04', 'BMW X1', 1)\n",
      "('Otaeki Sa', 538297, 'IDG-8Q94', 'Fiat Palio', 1)\n",
      "('Otoone Nao', 654959, 'MHB-3U65', 'Fiat Pulse', 1)\n",
      "('Omeoyo No', 114, 'ZRQ-1A80', 'Fiat Toro', 1)\n",
      "('Anike N', 5028, 'HBE-3087', 'Audi Q5', 1)\n",
      "('Anaane ', 72848, 'GPQ-7571', 'Nissan Kicks', 1)\n",
      "('Oneusa Ro', 396669, 'EUI-7886', 'Hyundai HR', 1)\n",
      "('Enanu Fu', 98093, 'ZHG-6M21', 'Volkswagen Gol', 1)\n",
      "('Etouna Sei', 66078, 'EXF-6X82', 'Chevrolet Onix', 1)\n",
      "('Umiusu Heiru', 26353, 'OVO-2E79', 'Volkswagen Polo', 1)\n",
      "('Okiuyu ', 410960, 'BDO-4D93', 'Honda Civic', 1)\n",
      "('Toerio Uyo', 205050, 'ECA-0J24', 'Volkswagen Golf', 1)\n",
      "('Uruiro Ka', 980, 'IHQ-4R27', 'Honda Accord', 1)\n"
     ]
    }
   ],
   "source": [
    "#  ALGORITMO PARA SELECIONAR AS INFORMAÇÕES DA TABELA DO BANCO DE DADOS\n",
    "mycursor = conexao.cursor()\n",
    "\n",
    "mycursor.execute(\"SELECT * FROM estacionamento_divina LIMIT 20\")\n",
    "\n",
    "myresult = mycursor.fetchall()\n",
    "\n",
    "for x in myresult:\n",
    "  print(x)"
   ]
  },
  {
   "cell_type": "code",
   "execution_count": null,
   "id": "e34f973b",
   "metadata": {},
   "outputs": [],
   "source": []
  }
 ],
 "metadata": {
  "kernelspec": {
   "display_name": "Python 3 (ipykernel)",
   "language": "python",
   "name": "python3"
  },
  "language_info": {
   "codemirror_mode": {
    "name": "ipython",
    "version": 3
   },
   "file_extension": ".py",
   "mimetype": "text/x-python",
   "name": "python",
   "nbconvert_exporter": "python",
   "pygments_lexer": "ipython3",
   "version": "3.10.9"
  }
 },
 "nbformat": 4,
 "nbformat_minor": 5
}
